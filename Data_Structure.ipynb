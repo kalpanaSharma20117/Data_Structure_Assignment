{
 "cells": [
  {
   "cell_type": "markdown",
   "id": "89b9eed8-19e9-43c9-abda-d4e55d0e9d61",
   "metadata": {},
   "source": [
    "# Data Types and Structures"
   ]
  },
  {
   "cell_type": "markdown",
   "id": "ad63d0ba-cb10-4f82-a1d5-428b7c52e116",
   "metadata": {},
   "source": [
    "## Assignment Questions"
   ]
  },
  {
   "cell_type": "markdown",
   "id": "8d6f9472-1622-4bd4-91b0-6543989276df",
   "metadata": {},
   "source": [
    "### Q1. What are Data Structure and why are they Important"
   ]
  },
  {
   "cell_type": "markdown",
   "id": "50b7b56b-afb7-4c78-96c8-0e0ead55ebb3",
   "metadata": {},
   "source": [
    "Ans.Data Structures are the ways to organize, store our data effectively in a computer so that it can be accessed and modified easily. There are different types of data structure designed to perform different types of tasks and operations.\n",
    "The reason why they're important is as below:\n",
    "1.Efficient Data Management: \n",
    "Organise data in such a way that we can quickly acces it and perform required modifications.\n",
    "2.Using Required data type allows us to perform operations with less time and it optimizes performance.\n",
    "3.Enhances code readability and enables easy maintainability. \n",
    "Different Types of Data Structures are :\n",
    "List, Tuples , Set , Dictionaries , Stack , Queue , Array etc."
   ]
  },
  {
   "cell_type": "markdown",
   "id": "2d10a33e-6ff5-44b7-b32a-97357ee50541",
   "metadata": {},
   "source": [
    "### Q2.Difference between mutable and immutable data types with examples"
   ]
  },
  {
   "cell_type": "markdown",
   "id": "5805890e-3079-4ebe-9e2d-ca9971156794",
   "metadata": {},
   "source": [
    "Ans. In Python, data types cab be categorized into mutable and immutable based on whether their values can be changed or not after creation.\n",
    "1.Mutable Data Types\n",
    "These Data Types can be modified after thier creation, meaning thier values can be changed without changing their memory address.\n",
    "Examples are list, dict, set\n",
    "for example, let's take a list:\n",
    "my_list = [1,2,3]\n",
    "my_list.append(4)\n",
    "here, we can modify the list by adding the element , but the memory address will remain the same.\n",
    "2.Immutable Data Types (Immutability only restricts modifications)\n",
    "These Data Types can't be modified once created, meaning we can't change the elements and any changes will lead to create a new object in memory.\n",
    "Examples are: Tuple, int , float , frozenset , string\n",
    "for example:\n",
    "my_tuple = (1,2,3)\n",
    "print(id(my_tuple)) #Memory Address before any operations or modification\n",
    "\n",
    "my_tuple += (4,5)\n",
    "print(id(my_tuple)) #New memory address will be returned"
   ]
  },
  {
   "cell_type": "markdown",
   "id": "879b8513-023d-49c9-b52e-5c624763fb79",
   "metadata": {},
   "source": [
    "### Q3.What are the main differences in Lists and Tuples in Python"
   ]
  },
  {
   "cell_type": "markdown",
   "id": "57ce558a-9c93-4b9e-91d1-3ef37b417959",
   "metadata": {},
   "source": [
    "Ans.Lists and Tuples both are ordered data structure means thier elemts are always stored in order and can contain heterogeneous type of elements but the main difference is that list is a Mutable Data structure means it's elements can be modified without changing thier memory location while Tuples are Immutable data structure means any modification can cause creation of new object in memory."
   ]
  },
  {
   "cell_type": "markdown",
   "id": "3cc8b472-493f-4b10-9384-f2408ec0a749",
   "metadata": {},
   "source": [
    "### Q4.How does Dictionaies stores Data"
   ]
  },
  {
   "cell_type": "markdown",
   "id": "d8ad4384-4f17-401b-b4a3-632eef1e2258",
   "metadata": {},
   "source": [
    "Ans. Dictionaries in Pyhton stored data as key-value pairs using hash tables. The Keys are hashed to an index and it allows fast retrieval of values.\n",
    "my_dict = {'Name': \"Kalpana\",\n",
    "           'Course': \"Data Analytics\",\n",
    "           'Qualification':\"MCA\"}\n",
    "Now, we can easily access our data with the help of the keys \n",
    "Keys must be immutable like str, int, tuple so that it's value will not change and retrieval becomes more easy."
   ]
  },
  {
   "cell_type": "markdown",
   "id": "b774d12f-ac77-400b-9957-60abf9a1bb21",
   "metadata": {},
   "source": [
    "### Q5.Why use a set instead of a list in Python?"
   ]
  },
  {
   "cell_type": "markdown",
   "id": "c0779e23-cbf5-4399-ba2a-cfec40e18511",
   "metadata": {},
   "source": [
    "Ans. Sets and list are the very useful data structures provided by Python.\n",
    "Set is a collection of unique, unordered elements, it do not allow duplicates, whereas lists do, Sets Automatically removes Duplicates, it enables faster lookup , checking if an item exists in a set is much faster than in a list.\n",
    "we should prefer to use set is No duplicate values are allowed , fast lookup is needed and there is no  "
   ]
  },
  {
   "cell_type": "markdown",
   "id": "8a75579c-bd13-4cd2-b951-4a47c748824f",
   "metadata": {},
   "source": [
    "### Q6.What is a string in Python, and how it is different from a list?"
   ]
  },
  {
   "cell_type": "markdown",
   "id": "00432313-4f3d-4f03-ad37-f7cccbd306ed",
   "metadata": {},
   "source": [
    "Ans. A string is a sequence of characters enclosed in either single quotes , double quotes or triple quotes. It is immutable means once created, it can't be changed.\n",
    "Example of string: s=\"Hello, World\"\n",
    "String is different from list as it is immutable but a list is a collection of elemnts(numbers, strings, etc) and is mutable.\n",
    "String only stores characters, while list can store any data type."
   ]
  },
  {
   "cell_type": "markdown",
   "id": "b8b4a198-8256-47ce-bad6-913bee8d94c5",
   "metadata": {},
   "source": [
    "### Q7.How do tuple ensure data integrity in Python?"
   ]
  },
  {
   "cell_type": "markdown",
   "id": "7cd82bcb-76cd-427a-b172-b2b612a65978",
   "metadata": {},
   "source": [
    "Ans.A tuple in Python is an immutable sequence data type, meaning once created, it can't be modified(no adding, no deleting, no changing elements). This feature of immutability ensures data integrity by preventing unintended changes.\n",
    "Tuples are immutable and hence is also safe for hashing , they can be used as keys in dictionaries. It ensures read-only access to critical data stored like Aadhar card number, pan card number, API responses.\n"
   ]
  },
  {
   "cell_type": "markdown",
   "id": "d8f78a56-4628-41ac-b62b-9b88f0df940a",
   "metadata": {},
   "source": [
    "### Q8.what is hash table, and how it relate to dictionaries in python?"
   ]
  },
  {
   "cell_type": "markdown",
   "id": "e6cfa6b3-53a3-47ba-8046-e2f525f2d570",
   "metadata": {},
   "source": [
    "Ans.Hash Table is a data structure that stores key-value pairs using a has function and Dictionaries in Python is a built-in implementation of a has table that allow for fast lookups,insertions , and deletions. It is implemented using a hash table behind the scenes.When a key is added to a dictionary, Python calculates its hash value using hash() function and this hash value determines the index where the key-value pair is stored in memory.\n",
    "Instead of searching through all elements(like in list), Python directly finds the key's location using its hash. \n",
    "for example:\n",
    "my_dict = {\"Name\": \"Kalpana\", \"Age\": 24, \"Course\": \"Data-Science\"}\n",
    "print(my_dict[\"age\"]) "
   ]
  },
  {
   "cell_type": "markdown",
   "id": "029912d6-cce7-4116-9751-530e52f17d2a",
   "metadata": {},
   "source": [
    "### Q9.Can list contains different data types ?"
   ]
  },
  {
   "cell_type": "markdown",
   "id": "f1d27ad1-5d10-4595-b1e0-5abe987a8f62",
   "metadata": {},
   "source": [
    "Yes, In python, a list can contain elements of different data types like integers, strings, boolean, lists, tuples, dictionaries in a single list.\n",
    "my_list = [10, 10.1, True, [1,2,3], (4,5), {\"Name\": \"Kalpana\"}]\n",
    "List is a mutable data structure , means it's values can be changed after creation."
   ]
  },
  {
   "cell_type": "markdown",
   "id": "a2fc045b-7df6-48f0-9882-aaa2062397e7",
   "metadata": {},
   "source": [
    "### Q10.Explain why strings are immutable in Python?"
   ]
  },
  {
   "cell_type": "markdown",
   "id": "3c31cde5-086e-4d87-aad1-8968c5055706",
   "metadata": {},
   "source": [
    "Ans.String in Python is immutable, meaning we can't change or perform any modification in their contents after they are created. Any modification leads to creation of new string instead of modifying the original one.\n",
    "SInce, strings are stored in memory only once and then reused, Immutability helps save space and also prevents accidental or unintended changes.\n",
    "for example:\n",
    "s =\"Kalpana\"\n",
    "s[0]='s' # error , string object does not support item assignment.\n",
    "So, String can't be modified directly in Python and this feature helps in memory efficiency, security and fast lookups if used as a key in dictionaries/sets.\n"
   ]
  },
  {
   "cell_type": "markdown",
   "id": "1c99cf3b-3353-4762-861b-e1bfd84ba7a6",
   "metadata": {},
   "source": [
    "### Q11.What advantages do dictionaries offer over lists for certain tasks?\n"
   ]
  },
  {
   "cell_type": "markdown",
   "id": "e60dd19b-c9cf-4cff-9813-d6fefbd996e0",
   "metadata": {},
   "source": [
    "Ans.Lists are the data structure that can store data of different data types like string, tuple, list, int, float whereas Dictionary is a data structure that stores value in a key-value pair.\n",
    "Dictionaries are better than list for certain tasks because they provide faster lookup with the help of meaningful key-value mapping and also efficient data storage.\n",
    "It become easy to access values by keys due to hashing.\n",
    "It avoids duplicates and ensures unique keys.\n",
    "Dictionaries are better for large datasets as it provides easy lookups."
   ]
  },
  {
   "cell_type": "markdown",
   "id": "78508267-ba86-4856-b6a1-83e5023d7b72",
   "metadata": {},
   "source": [
    "### Q12.Describe a scenerio where using a tuple would be preferable over a list."
   ]
  },
  {
   "cell_type": "markdown",
   "id": "23e1d081-ca46-422a-8cdd-e8ca384afa0b",
   "metadata": {},
   "source": [
    "Ans.There're some scenerioes where tuples would be preferable over a list as mentioned below:\n",
    "1. Immutable data (values can't be changed)\n",
    "2. Hashable Keys (Tuples can be used as dictionary keys, but list can't as it is mutable)\n",
    "3. Faster Performance(Tuples are slightly faster than lists)\n",
    "for example:\n",
    "1.Storing fixed and crucial data such as Aadhar card number, pan card number , API calls.\n",
    "2.When we need unique and immutable keys in dictionary.\n",
    "ex:  student_scores = {(\"Kalpana\", \"Math\"): 90,\n",
    "                       (\"Divya\", \"Science\"): 80}\n",
    "print(student_scores[(\"Divya\", \"Science\")]\n"
   ]
  },
  {
   "cell_type": "markdown",
   "id": "cdd99542-ab36-4777-b146-c61d9d9cbd5b",
   "metadata": {},
   "source": [
    "### Q13.How does sets handle duplicate values in Python?"
   ]
  },
  {
   "cell_type": "markdown",
   "id": "674dcf7e-2394-43d7-baa3-a44a09a3f1fa",
   "metadata": {},
   "source": [
    "Ans. Sets in Python automatically remove dupliacte values because they store only unique elements.\n",
    "for example: numbers = {1,2,2,4,4,6,7,9,9,9,9}\n",
    "print(numbers)\n",
    "It will repeat {1,2,4,6,7,9}\n",
    "Python automatically removes the extra 2, 4 and 9 because sets only store unique values.\n",
    "* Sets uses Hashing, each element in a set is stored using a unique hash value.\n",
    "*Insertion Check: Before adding an element, Python checks if it already exists in the set, If it does, it skips adding it again.\n",
    "If you'll try to add duplicate manually, then it will show any error but will ignore that value."
   ]
  },
  {
   "cell_type": "markdown",
   "id": "b4365db1-7b2c-44f9-a3c1-06a95ff8c526",
   "metadata": {},
   "source": [
    "### Q14.How does the \"in\" keyword work differently for lists and dictionaries?"
   ]
  },
  {
   "cell_type": "markdown",
   "id": "3cd3846b-5d9f-4f75-8e70-f207ff2bce13",
   "metadata": {},
   "source": [
    "Ans. The \"in\" keyword is used to check membership in Python, but it works differently for lists and dictionaries due to their underlying data structure.\n",
    "*When we use \"in\" with a list, Python searches through each element one by one. This makes it slow for large lists.\n",
    "for example:\n",
    "numbers = [10,20,30,40,50,60]\n",
    "print(30 in numbers) #True\n",
    "print(70 in numbers) #False\n",
    "\n",
    "*In a dictionary, \"in\" only checks for keys, not vallues.\n",
    "It is much faster because dictionaries use hash tables for lookups.\n",
    "Marks= {\"A\": 80, \"B\": 70, \"C\": 60}\n",
    "print(\"A\" in Marks)\n",
    "print(\"80\" in Marks) #False(Values not checked)"
   ]
  },
  {
   "cell_type": "markdown",
   "id": "ccb4be5d-fd29-4c1d-9b95-b02664380dd2",
   "metadata": {},
   "source": [
    "### Q15.Can you modify the elements of a tuple? Explain why or why not?\n"
   ]
  },
  {
   "cell_type": "markdown",
   "id": "fcb61e05-249a-4b8e-9d53-c8d6de2b1ce4",
   "metadata": {},
   "source": [
    "Ans. No, we can't modify the elements of a tuple in Python because tuples are immutable.Once a tuple is created, its elements can't be changed, added, or removed.This is because tuples are stored in memory in a way that prevents modification, ensuring data integrity and safety.\n",
    "Although tuples are immutable but if a tuple contains a mutable element(like a list), that list can be modified.\n",
    "foe ex:\n",
    "t = (1,2[3,4])\n",
    "t[2].append(5)\n",
    "print(t) (1,2[3,4,5])"
   ]
  },
  {
   "cell_type": "markdown",
   "id": "cfa9541e-348e-4296-9dbd-1cbc8bc0a107",
   "metadata": {},
   "source": [
    "### Q16.What is nested dictionary, and give an example of its use case."
   ]
  },
  {
   "cell_type": "markdown",
   "id": "b7ab1853-044d-49c7-b6f3-06d02100f825",
   "metadata": {},
   "source": [
    "Ans.A nested dictionary is a dictionary that contains another dictionary as a value.It allows us to store structured data in a hierarchical mannner.\n",
    "for ex:\n",
    "Student Records\n",
    "students = {\n",
    "           \"ID1\" :{\"Name\": \"Kalpana\", \"Course\": \"MCA\", \"Grade\": \"A\"}\n",
    "}\n",
    "Here, Student ID is the key and it's values are stored inside nested dictionary.\n",
    "Used for storing structured data like student records, employee details, and configurations."
   ]
  },
  {
   "cell_type": "markdown",
   "id": "47878c53-1ea6-4488-b3e2-f6075a0c5fc3",
   "metadata": {},
   "source": [
    "### Q17.Describe the Time Complexity of accessing elements in a dictioanry."
   ]
  },
  {
   "cell_type": "markdown",
   "id": "9bb03c92-0bf1-4d63-af88-c454de6a4abe",
   "metadata": {},
   "source": [
    "In Python, dictionaries are implemented using hash tables, which provide fast lookups. \n",
    "The Time complexity of accessing an element in a dictionary depends on whether the key is there is dictionary or not.\n",
    "When Key is present , Python computes the hash value of the key and finds the value directly in the hash table. This happens in O(1) time on average.(COnstant Time)\n",
    "If we try to access a key that does not exist, Python raises a KeyError.\n",
    "If hash collisions occur (multiple keys having the same hash), Python uses linked lists to store values at the same location. In this case , a lookup can take O(n) time(Linear Time, looping through a list)."
   ]
  },
  {
   "cell_type": "markdown",
   "id": "d02eb16f-291b-43d5-b6fb-560189f7ca42",
   "metadata": {},
   "source": [
    "### Q18.In what situations are lists preferred over dictionaries?\n"
   ]
  },
  {
   "cell_type": "markdown",
   "id": "9226cc34-cef4-4b4f-b853-a1a937518f27",
   "metadata": {},
   "source": [
    "Ans. Lists and dictionaries are both important data structures in Python, but lists are preferred over dictionaries in the following situations:\n",
    "1. When Order Matters\n",
    "Lists maintain the order of elements, whereas dictionaries did not.\n",
    "If we need ordered elements, lists are the better choice than dictionaries.\n",
    "for ex: students = [101, 102, 103, 104]  # Preserves order\n",
    "2. When You Only Need a Collection of Values\n",
    "If ywe just need to store and access values (without keys), a list is simpler.\n",
    "3. List Consumes less memory compared to dictionaries.\n",
    "4.When we need faster looping, as it is faster in lists than through dictionaries.Since dictionaries have key-value lookups, iteration takes more time."
   ]
  },
  {
   "cell_type": "markdown",
   "id": "10bc1def-d07f-40f9-9bb6-10a868615f39",
   "metadata": {},
   "source": [
    "### Q19.Why are dictionaries considered unordered, and how does that affect data retrieval?\n"
   ]
  },
  {
   "cell_type": "markdown",
   "id": "6c4a11ba-b94c-47dc-836b-61b2539bef18",
   "metadata": {},
   "source": [
    "Ans. In Python versions (before newer 3.7), dictionaries were unordered because they store key-value pairs using hash tables.\n",
    "The order of elements depended on the hash function, not on the insertion sequence.\n",
    "before Python3.7, The order of items in a dictionary was unpredictable but in newer version, dictionaries maintain insertion order and Retrieval follows the order keys were inserted.: In modern Python (3.7+), dictionaries preserve order, so retrieval is predictable. However, they are still best for fast lookups (O(1)) using hash tables."
   ]
  },
  {
   "cell_type": "markdown",
   "id": "3d5db4d9-2e67-4b89-8649-7352b1ebd949",
   "metadata": {},
   "source": [
    "### Q20.Explain the difference between a list and a dictionary in terms of data retrieval"
   ]
  },
  {
   "cell_type": "markdown",
   "id": "2a41302a-8d95-40f2-b25d-c32c220099aa",
   "metadata": {},
   "source": [
    "Ans.\n",
    "1. Lists stores elements in sequential order (index-based) whereas Dictionary stores key-value pairs (hash-based).\n",
    "2. in List, we can access elements using an index (list[2]), whereas in dictionary,access values using a key (dict[\"name\"])\n",
    "3.Data Retrieval is slower in case of lists as it must search the entire list, but dictionary stored data in the form of key-value pair and uses hashing, find a value using a key.\n",
    "we should use list when we need to store ordered data(like any seqyuence) and retrieval is based on index.\n",
    "and use dictionary when we need fast lookups using keys."
   ]
  },
  {
   "cell_type": "markdown",
   "id": "4bad6172-ef18-47d9-96b2-17c86addccd0",
   "metadata": {},
   "source": [
    "## Practical Questions"
   ]
  },
  {
   "cell_type": "markdown",
   "id": "be698975-0976-45a4-a7e3-8547d46cd097",
   "metadata": {
    "jp-MarkdownHeadingCollapsed": true
   },
   "source": [
    "#### Q1.Write a code to create a string with your name and print it.\n"
   ]
  },
  {
   "cell_type": "code",
   "execution_count": 37,
   "id": "2b19f4f5-9965-49ee-9238-07ada5916761",
   "metadata": {},
   "outputs": [
    {
     "name": "stdout",
     "output_type": "stream",
     "text": [
      "Kalpana\n"
     ]
    }
   ],
   "source": [
    "my_name = \"Kalpana\"\n",
    "print(my_name)"
   ]
  },
  {
   "cell_type": "markdown",
   "id": "c06bdacc-0168-4a17-9fa2-e40f1d434bdf",
   "metadata": {},
   "source": [
    "#### Q2.Write a code to find the length of the string \"Hello World\".\n"
   ]
  },
  {
   "cell_type": "code",
   "execution_count": 5,
   "id": "bbeb2488-f5ab-4d24-a476-1b14abbb6cc0",
   "metadata": {},
   "outputs": [
    {
     "name": "stdout",
     "output_type": "stream",
     "text": [
      "11\n"
     ]
    }
   ],
   "source": [
    "s =\"Hello World\"\n",
    "length_of_string = len(s)\n",
    "print(length_of_string)"
   ]
  },
  {
   "cell_type": "markdown",
   "id": "2e35e4ee-610e-4d64-a0b1-3053c935aede",
   "metadata": {},
   "source": [
    "#### Q3.Write a code to slice the first 3 characters from the string \"Python Programming\".\n"
   ]
  },
  {
   "cell_type": "code",
   "execution_count": 6,
   "id": "3b1ff163-fbe1-43fe-85f6-6e6c2f32c036",
   "metadata": {},
   "outputs": [
    {
     "data": {
      "text/plain": [
       "'Pyt'"
      ]
     },
     "execution_count": 6,
     "metadata": {},
     "output_type": "execute_result"
    }
   ],
   "source": [
    "s = \"Python Programming\"\n",
    "s[0:3]"
   ]
  },
  {
   "cell_type": "markdown",
   "id": "4e5cb550-7da7-4031-8456-080d25d40ed4",
   "metadata": {},
   "source": [
    "#### Q4.Write a code to convert the string \"hello\" to uppercase.\n"
   ]
  },
  {
   "cell_type": "code",
   "execution_count": 7,
   "id": "5c1c33b0-cab9-4838-bffc-dc1f962c315e",
   "metadata": {},
   "outputs": [
    {
     "name": "stdout",
     "output_type": "stream",
     "text": [
      "HELLO\n"
     ]
    }
   ],
   "source": [
    "s = \"hello\"\n",
    "print(s.upper())"
   ]
  },
  {
   "cell_type": "markdown",
   "id": "d0e6fa2f-366c-4e67-b73b-37ec9f8c5493",
   "metadata": {},
   "source": [
    "#### Q5.Write a code to replace the word \"apple\" with \"orange\" in the string \"I like apple\".\n"
   ]
  },
  {
   "cell_type": "code",
   "execution_count": 9,
   "id": "ab60b8a1-3fbd-4c80-aacc-2ea3fc207086",
   "metadata": {},
   "outputs": [
    {
     "name": "stdout",
     "output_type": "stream",
     "text": [
      "I like orange\n"
     ]
    }
   ],
   "source": [
    "s = \"I like apple\"\n",
    "new_text = s.replace(\"apple\", \"orange\")\n",
    "print(new_text)"
   ]
  },
  {
   "cell_type": "markdown",
   "id": "bfe0f911-6d9e-42e6-9be1-6f837d833dc9",
   "metadata": {},
   "source": [
    "#### Q6.Write a code to create a list with numbers 1 to 5 and print it.\n"
   ]
  },
  {
   "cell_type": "code",
   "execution_count": 10,
   "id": "cbeaad2f-d990-4f9d-97ec-d9580d995cd5",
   "metadata": {},
   "outputs": [
    {
     "name": "stdout",
     "output_type": "stream",
     "text": [
      "[1, 2, 3, 4, 5]\n"
     ]
    }
   ],
   "source": [
    "numbers = [1,2,3,4,5]\n",
    "print(numbers)"
   ]
  },
  {
   "cell_type": "markdown",
   "id": "b6309bff-1824-4b94-8e4d-1e80fcdf2e28",
   "metadata": {},
   "source": [
    "#### Q7.Write a code to append the number 10 to the list [1, 2, 3, 4].\n"
   ]
  },
  {
   "cell_type": "code",
   "execution_count": 14,
   "id": "a2ae8a67-812b-4a51-8314-22710d2a15f6",
   "metadata": {},
   "outputs": [
    {
     "name": "stdout",
     "output_type": "stream",
     "text": [
      "[1, 2, 3, 4, 10]\n"
     ]
    }
   ],
   "source": [
    "numbers = [1,2,3,4]\n",
    "numbers.append(10)\n",
    "print(numbers)"
   ]
  },
  {
   "cell_type": "markdown",
   "id": "71d55188-7026-44d1-908e-22728a1d26ad",
   "metadata": {},
   "source": [
    "#### Q8.Write a code to remove the number 3 from the list [1, 2, 3, 4, 5].\n"
   ]
  },
  {
   "cell_type": "code",
   "execution_count": 16,
   "id": "59254aff-b98d-4601-9ee8-9f68c74e475e",
   "metadata": {},
   "outputs": [
    {
     "name": "stdout",
     "output_type": "stream",
     "text": [
      "[1, 2, 4, 5]\n"
     ]
    }
   ],
   "source": [
    "numbers = [1,2,3,4,5]\n",
    "numbers.pop(2) # index wise\n",
    "print(numbers)"
   ]
  },
  {
   "cell_type": "code",
   "execution_count": 18,
   "id": "008f646c-5f73-499a-85cd-fd1c3cbd1b3c",
   "metadata": {},
   "outputs": [
    {
     "name": "stdout",
     "output_type": "stream",
     "text": [
      "[1, 2, 4, 5]\n"
     ]
    }
   ],
   "source": [
    "numbers = [1,2,3,4,5]\n",
    "numbers.remove(3) #based on value\n",
    "print(numbers)"
   ]
  },
  {
   "cell_type": "markdown",
   "id": "666e5fab-8038-4b25-bd93-8eac76d633cd",
   "metadata": {},
   "source": [
    "#### Q9.Write a code to access the second element in the list ['a', 'b', 'c', 'd'].\n"
   ]
  },
  {
   "cell_type": "code",
   "execution_count": 19,
   "id": "cedc57a6-29da-4177-a269-831adfe1e4d9",
   "metadata": {},
   "outputs": [
    {
     "data": {
      "text/plain": [
       "'b'"
      ]
     },
     "execution_count": 19,
     "metadata": {},
     "output_type": "execute_result"
    }
   ],
   "source": [
    "s = ['a', 'b', 'c', 'd']\n",
    "s[1]"
   ]
  },
  {
   "cell_type": "markdown",
   "id": "0d8a6e16-b9d9-48b3-8fac-c598063d2d3d",
   "metadata": {},
   "source": [
    "#### Q10.Write a code to reverse the list [10, 20, 30, 40, 50]."
   ]
  },
  {
   "cell_type": "code",
   "execution_count": 21,
   "id": "aeaea1aa-dbd4-4021-be8c-c25c1777166f",
   "metadata": {},
   "outputs": [
    {
     "name": "stdout",
     "output_type": "stream",
     "text": [
      "[50, 40, 30, 20, 10]\n"
     ]
    }
   ],
   "source": [
    "s = [10,20,30,40,50]\n",
    "s.reverse()\n",
    "print(s)"
   ]
  },
  {
   "cell_type": "markdown",
   "id": "3c53d06a-0beb-45aa-90ae-ddd3d48c89dc",
   "metadata": {},
   "source": [
    "#### Q11.Write a code to create a tuple with the elements 100, 200, 300 and print it."
   ]
  },
  {
   "cell_type": "code",
   "execution_count": 22,
   "id": "83323b3a-a3f7-4b27-9c57-7d8d33a1629e",
   "metadata": {},
   "outputs": [
    {
     "name": "stdout",
     "output_type": "stream",
     "text": [
      "(100, 200, 300)\n"
     ]
    }
   ],
   "source": [
    "s = (100,200,300)\n",
    "print(s)"
   ]
  },
  {
   "cell_type": "markdown",
   "id": "db16ecb2-8498-430a-b022-bac63c510c59",
   "metadata": {},
   "source": [
    "#### Q12.Write a code to access the second-to-last element of the tuple ('red', 'green', 'blue', 'yellow')."
   ]
  },
  {
   "cell_type": "code",
   "execution_count": 23,
   "id": "b0955525-062c-4e41-b1c1-6cd5dc90496f",
   "metadata": {},
   "outputs": [
    {
     "data": {
      "text/plain": [
       "'blue'"
      ]
     },
     "execution_count": 23,
     "metadata": {},
     "output_type": "execute_result"
    }
   ],
   "source": [
    "s = ('red', 'green', 'blue', 'yellow')\n",
    "s[-2]"
   ]
  },
  {
   "cell_type": "markdown",
   "id": "4e0d1cbe-6cd6-442b-83d2-2d98897982e9",
   "metadata": {},
   "source": [
    "#### Q13.Write a code to find the minimum number in the tuple (10, 20, 5, 15)."
   ]
  },
  {
   "cell_type": "code",
   "execution_count": 26,
   "id": "e5f5e3f3-64b0-4721-b6c7-d4abd650ba76",
   "metadata": {},
   "outputs": [
    {
     "name": "stdout",
     "output_type": "stream",
     "text": [
      "5\n"
     ]
    }
   ],
   "source": [
    "s = (10,20,5,15)\n",
    "min_num = min(s)\n",
    "print(min_num)"
   ]
  },
  {
   "cell_type": "markdown",
   "id": "14cb83dd-d46c-497d-869b-aded1aa8ce1a",
   "metadata": {},
   "source": [
    "#### Q14.Write a code to find the index of the element \"cat\" in the tuple ('dog', 'cat', 'rabbit')."
   ]
  },
  {
   "cell_type": "code",
   "execution_count": 30,
   "id": "74592b41-1397-4fec-a360-258f2a060b1c",
   "metadata": {},
   "outputs": [
    {
     "name": "stdout",
     "output_type": "stream",
     "text": [
      "1\n"
     ]
    }
   ],
   "source": [
    "s = ('dog', 'cat', 'rabbit')\n",
    "index_of_cat = s.index('cat')\n",
    "print(index_of_cat)"
   ]
  },
  {
   "cell_type": "markdown",
   "id": "7f8a2487-9eb8-40c3-813f-650e48273e0e",
   "metadata": {},
   "source": [
    "#### Q15.Write a code to create a tuple containing three different fruits and check if \"kiwi\" is in it."
   ]
  },
  {
   "cell_type": "code",
   "execution_count": 33,
   "id": "b70032e3-1dd5-48d7-b9cb-f9e411e4dc31",
   "metadata": {},
   "outputs": [
    {
     "name": "stdout",
     "output_type": "stream",
     "text": [
      "True\n"
     ]
    }
   ],
   "source": [
    "fruits = ('Banana', 'Apple', 'Mango', 'Grapes', 'Kiwi')\n",
    "print('Kiwi' in fruits)"
   ]
  },
  {
   "cell_type": "markdown",
   "id": "a3dd2db7-58ef-41e7-91fe-e2b771287531",
   "metadata": {},
   "source": [
    "#### Q16.Write a code to create a set with the elements 'a', 'b', 'c' and print it."
   ]
  },
  {
   "cell_type": "code",
   "execution_count": 34,
   "id": "45f24753-153d-4297-9d1c-28fb985be83b",
   "metadata": {},
   "outputs": [
    {
     "name": "stdout",
     "output_type": "stream",
     "text": [
      "{'a', 'b', 'c'}\n"
     ]
    }
   ],
   "source": [
    "s = {'a', 'b', 'c'}\n",
    "print(s)"
   ]
  },
  {
   "cell_type": "markdown",
   "id": "fd53097d-5271-4b82-9ce3-71559da11322",
   "metadata": {},
   "source": [
    "#### Q17. Write a code to clear all elements from the set {1, 2, 3, 4, 5}."
   ]
  },
  {
   "cell_type": "code",
   "execution_count": 36,
   "id": "4de11140-3326-4a48-9577-3c21739065a7",
   "metadata": {},
   "outputs": [
    {
     "name": "stdout",
     "output_type": "stream",
     "text": [
      "set()\n"
     ]
    }
   ],
   "source": [
    "s ={1,2,3,4,5}\n",
    "s.clear()\n",
    "print(s)"
   ]
  },
  {
   "cell_type": "markdown",
   "id": "dd1d94a0-030f-4b9e-ae16-03d89135b5dc",
   "metadata": {},
   "source": [
    "#### Q18.Write a code to remove the element 4 from the set {1, 2, 3, 4}."
   ]
  },
  {
   "cell_type": "code",
   "execution_count": 38,
   "id": "1f479741-cce1-4a4c-a8a9-f3f7d6cba02b",
   "metadata": {},
   "outputs": [
    {
     "name": "stdout",
     "output_type": "stream",
     "text": [
      "{1, 2, 3}\n"
     ]
    }
   ],
   "source": [
    "s = {1,2,3,4}\n",
    "s.remove(4)\n",
    "print(s)"
   ]
  },
  {
   "cell_type": "markdown",
   "id": "a1b9fda4-fcfb-45cd-bc53-065dbee57dcf",
   "metadata": {},
   "source": [
    "#### Q19.Write a code to find the union of two sets {1, 2, 3} and {3, 4, 5}."
   ]
  },
  {
   "cell_type": "code",
   "execution_count": 40,
   "id": "87a6d29a-167a-46b5-8083-e022723dd6a5",
   "metadata": {},
   "outputs": [
    {
     "name": "stdout",
     "output_type": "stream",
     "text": [
      "{1, 2, 3, 4, 5}\n"
     ]
    }
   ],
   "source": [
    "s = {1,2,3}\n",
    "s1 = {3,4,5}\n",
    "union_set = s.union(s1)\n",
    "print(union_set)"
   ]
  },
  {
   "cell_type": "markdown",
   "id": "c213d62f-b773-49ae-8795-3c66cfa694f2",
   "metadata": {},
   "source": [
    "#### Q20. Write a code to find the intersection of two sets {1, 2, 3} and {2, 3, 4}."
   ]
  },
  {
   "cell_type": "code",
   "execution_count": 41,
   "id": "dd7f8255-bb89-4617-8fd5-aa25fe63c8d1",
   "metadata": {},
   "outputs": [
    {
     "name": "stdout",
     "output_type": "stream",
     "text": [
      "{2, 3}\n"
     ]
    }
   ],
   "source": [
    "s = {1,2,3}\n",
    "s1 = {2,3,4}\n",
    "intersection_set = s.intersection(s1)\n",
    "print(intersection_set)"
   ]
  },
  {
   "cell_type": "markdown",
   "id": "9177db55-82c0-4eb7-9465-7a4b6448eb1a",
   "metadata": {},
   "source": [
    "#### Q21. Write a code to create a dictionary with the keys \"name\", \"age\", and \"city\", and print it. "
   ]
  },
  {
   "cell_type": "code",
   "execution_count": 42,
   "id": "fb42a627-348a-4080-94d0-ad9155cfbfff",
   "metadata": {},
   "outputs": [
    {
     "name": "stdout",
     "output_type": "stream",
     "text": [
      "{'name': 'A', 'age': 23, 'city': 'Rewari'}\n"
     ]
    }
   ],
   "source": [
    "dictionary = {\"name\":\"A\", \"age\": 23, \"city\": \"Rewari\"}\n",
    "print(dictionary)"
   ]
  },
  {
   "cell_type": "markdown",
   "id": "ef606fa5-713c-4d9a-895a-55b126c834bb",
   "metadata": {},
   "source": [
    "#### Q22. Write a code to add a new key-value pair \"country\": \"USA\" to the dictionary {'name': 'John', 'age': 25}."
   ]
  },
  {
   "cell_type": "code",
   "execution_count": 3,
   "id": "f8ab0905-1266-4367-8509-3df3e4116157",
   "metadata": {},
   "outputs": [
    {
     "name": "stdout",
     "output_type": "stream",
     "text": [
      "{'name': 'John', 'age': 25, 'country': 'USA'}\n"
     ]
    }
   ],
   "source": [
    "s = {'name': 'John', 'age': 25}\n",
    "s[\"country\"] = \"USA\"\n",
    "print(s)"
   ]
  },
  {
   "cell_type": "markdown",
   "id": "63b8766f-99b8-471d-8afb-3aa837e67645",
   "metadata": {},
   "source": [
    "#### Q23. Write a code to access the value associated with the key \"name\" in the dictionary {'name': 'Alice', 'age': 30}."
   ]
  },
  {
   "cell_type": "code",
   "execution_count": 6,
   "id": "209bbf28-e5af-4007-a77e-951a63094e70",
   "metadata": {},
   "outputs": [
    {
     "data": {
      "text/plain": [
       "'Alice'"
      ]
     },
     "execution_count": 6,
     "metadata": {},
     "output_type": "execute_result"
    }
   ],
   "source": [
    "s = {'name': 'Alice', 'age': 30}\n",
    "s['name']"
   ]
  },
  {
   "cell_type": "markdown",
   "id": "a2cf0614-4092-4748-99ff-5ad7f66bb6ff",
   "metadata": {},
   "source": [
    "#### Q24. Write a code to remove the key \"age\" from the dictionary {'name': 'Bob', 'age': 22, 'city': 'New York'}."
   ]
  },
  {
   "cell_type": "code",
   "execution_count": 11,
   "id": "b4cef651-7dea-4261-95d2-05d4c6cd8d5b",
   "metadata": {},
   "outputs": [
    {
     "name": "stdout",
     "output_type": "stream",
     "text": [
      "{'name': 'Bob', 'city': 'New York'}\n"
     ]
    }
   ],
   "source": [
    "s = {'name': 'Bob', 'age': 22 , 'city': 'New York'}\n",
    "s.pop('age')\n",
    "print(s)"
   ]
  },
  {
   "cell_type": "markdown",
   "id": "cfe5a8a3-c4db-491a-b1f4-2b11a7097579",
   "metadata": {},
   "source": [
    "#### 25. Write a code to check if the key \"city\" exists in the dictionary {'name': 'Alice', 'city': 'Paris'}."
   ]
  },
  {
   "cell_type": "code",
   "execution_count": 13,
   "id": "67c5940d-7280-4475-8b98-237204bef92e",
   "metadata": {},
   "outputs": [
    {
     "name": "stdout",
     "output_type": "stream",
     "text": [
      "True\n"
     ]
    }
   ],
   "source": [
    "s ={'name':'Alice', 'city': 'Paris'}\n",
    "print('city' in s)"
   ]
  },
  {
   "cell_type": "markdown",
   "id": "66a28fbc-c1c7-466c-96d0-a6183b16240a",
   "metadata": {},
   "source": [
    "#### Q26. Write a code to create a list, a tuple, and a dictionary, and print them all."
   ]
  },
  {
   "cell_type": "code",
   "execution_count": 14,
   "id": "8e0016ff-c08c-4a9b-80d0-444439d2c9df",
   "metadata": {},
   "outputs": [
    {
     "name": "stdout",
     "output_type": "stream",
     "text": [
      "Lists: [1, 2, 3, True, 'Kalpana']\n",
      "Tuple: (1, 2, False, 'Riya')\n",
      "Dictionary: {'name': 'Kalpana', 'age': 23, 'Course': 'MCA'}\n"
     ]
    }
   ],
   "source": [
    "my_list = [1,2,3,True,\"Kalpana\"]\n",
    "my_tuple = (1,2,False, \"Riya\",)\n",
    "my_dictionary = {'name': 'Kalpana', 'age': 23, 'Course': 'MCA'}\n",
    "\n",
    "print(\"Lists:\", my_list)\n",
    "print(\"Tuple:\", my_tuple)\n",
    "print(\"Dictionary:\", my_dictionary)\n"
   ]
  },
  {
   "cell_type": "markdown",
   "id": "c28e01dd-fe8f-4854-881d-612cc5f978ed",
   "metadata": {},
   "source": [
    "#### Q27. Write a code to create a list of 5 random numbers between 1 and 100, sort it in ascending order, and print the result.(replaced)\n"
   ]
  },
  {
   "cell_type": "code",
   "execution_count": 19,
   "id": "45c4ffff-b06c-4025-867d-513642be7b34",
   "metadata": {},
   "outputs": [
    {
     "name": "stdout",
     "output_type": "stream",
     "text": [
      "[55, 65, 79, 80, 100]\n"
     ]
    }
   ],
   "source": [
    "s = [100, 80, 79, 65, 55]\n",
    "s.sort()\n",
    "print(s)"
   ]
  },
  {
   "cell_type": "markdown",
   "id": "87835b6a-6512-46a9-9cd4-a6958409f2cc",
   "metadata": {},
   "source": [
    "#### 28.Write a code to create a list with strings and print the element at the third index."
   ]
  },
  {
   "cell_type": "code",
   "execution_count": 24,
   "id": "2199fc82-8dac-489d-ab56-ac8f170bd15b",
   "metadata": {},
   "outputs": [
    {
     "name": "stdout",
     "output_type": "stream",
     "text": [
      "Elements at the third index is : Sonam\n"
     ]
    }
   ],
   "source": [
    "s = ['Kalpana', 'Riya', 'Sonam', 'Aysha']\n",
    "print(\"Elements at the third index is :\", s[2] )"
   ]
  },
  {
   "cell_type": "markdown",
   "id": "adecb0d9-05c6-46e6-9551-1d61deab799e",
   "metadata": {},
   "source": [
    "#### Q29. Write a code to combine two dictionaries into one and print the result."
   ]
  },
  {
   "cell_type": "code",
   "execution_count": 32,
   "id": "c2645e55-7e08-4627-834a-23b28c618b9d",
   "metadata": {},
   "outputs": [
    {
     "name": "stdout",
     "output_type": "stream",
     "text": [
      "{'Name': 'Kalpana', 'Age': 24, 'City': 'Chandigarh', 'State': 'Haryana'}\n"
     ]
    }
   ],
   "source": [
    "dict_1 = {'Name': \"Kalpana\", 'Age': 24}\n",
    "dict_2 = {'City': \"Chandigarh\", 'State': \"Haryana\"}\n",
    "dict_1.update(dict_2)\n",
    "print(dict_1)"
   ]
  },
  {
   "cell_type": "markdown",
   "id": "07fb1dd6-a174-4b3a-8263-163ca3d47aba",
   "metadata": {},
   "source": [
    "#### Q30. Write a code to convert a list of strings into a set."
   ]
  },
  {
   "cell_type": "code",
   "execution_count": 36,
   "id": "cef04d4b-107c-4ea1-ba7e-9a19b2ac5d15",
   "metadata": {},
   "outputs": [
    {
     "name": "stdout",
     "output_type": "stream",
     "text": [
      "Set of Strings: {'Kalpana', 'Aditi', 'Aysha', 'Riya', 'Sonam'}\n"
     ]
    }
   ],
   "source": [
    "s = ['Kalpana', 'Riya', 'Aysha', 'Sonam', 'Aditi']\n",
    "string_set = set(s)\n",
    "print(\"Set of Strings:\", string_set)"
   ]
  },
  {
   "cell_type": "code",
   "execution_count": null,
   "id": "d3370bba-5fc9-407d-895e-ec289669454a",
   "metadata": {},
   "outputs": [],
   "source": []
  },
  {
   "cell_type": "markdown",
   "id": "546ec90d-2efc-4caa-89ad-f1ce8a93c2b2",
   "metadata": {},
   "source": [
    "Ans.\n",
    "1. Lists stores elements in sequential order (index-based) whereas Dictionary stores key-value pairs (hash-based).\n",
    "2. in List, we can access elements using an index (list[2]), whereas in dictionary,access values using a key (dict[\"name\"])\n",
    "3.Data Retrieval is slower in case of lists as it must search the entire list, but dictionary stored data in the form of key-value pair and uses hashing, find a value using a key.\n",
    "we should use list when we need to store ordered data(like any seqyuence) and retrieval is based on index.\n",
    "and use dictionary when we need fast lookups using keys."
   ]
  }
 ],
 "metadata": {
  "kernelspec": {
   "display_name": "Python 3 (ipykernel)",
   "language": "python",
   "name": "python3"
  },
  "language_info": {
   "codemirror_mode": {
    "name": "ipython",
    "version": 3
   },
   "file_extension": ".py",
   "mimetype": "text/x-python",
   "name": "python",
   "nbconvert_exporter": "python",
   "pygments_lexer": "ipython3",
   "version": "3.13.2"
  }
 },
 "nbformat": 4,
 "nbformat_minor": 5
}
