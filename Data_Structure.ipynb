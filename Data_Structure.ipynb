{
  "nbformat": 4,
  "nbformat_minor": 0,
  "metadata": {
    "colab": {
      "provenance": [],
      "authorship_tag": "ABX9TyMzXSWdtc7xRVymF4Rqppkr",
      "include_colab_link": true
    },
    "kernelspec": {
      "name": "python3",
      "display_name": "Python 3"
    },
    "language_info": {
      "name": "python"
    }
  },
  "cells": [
    {
      "cell_type": "markdown",
      "metadata": {
        "id": "view-in-github",
        "colab_type": "text"
      },
      "source": [
        "<a href=\"https://colab.research.google.com/github/kalpanaSharma20117/Data_Structure_Assignment/blob/main/Data_Structure.ipynb\" target=\"_parent\"><img src=\"https://colab.research.google.com/assets/colab-badge.svg\" alt=\"Open In Colab\"/></a>"
      ]
    },
    {
      "cell_type": "markdown",
      "source": [
        "# Data Types and Structures"
      ],
      "metadata": {
        "id": "yJSDUBiFYNRX"
      }
    },
    {
      "cell_type": "markdown",
      "source": [
        "## Assignment Questions"
      ],
      "metadata": {
        "id": "6kYG3JoCO83J"
      }
    },
    {
      "cell_type": "markdown",
      "source": [
        "## Q1. What are Data Structure and why are they Important?\n",
        "\n",
        "Ans.Data Structures are the ways to organize, store our data effectively in a computer so that it can be accessed and modified easily. There are different types of data structure designed to perform different types of tasks and operations. The reason why they're important is as below:\n",
        "1.Efficient Data Management: Organise data in such a way that we can quickly acces it and perform required modifications.\n",
        "2.Using Required data type allows us to perform operations with less time and it optimizes performance.\n",
        "3.Enhances code readability and enables easy maintainability.\n",
        "Different Types of Data Structures are : List, Tuples , Set , Dictionaries , Stack , Queue , Array etc.\n",
        "\n",
        "\n",
        "## Q2.Difference between mutable and immutable data types with examples.\n",
        "Ans. In Python, data types cab be categorized into mutable and immutable based on whether their values can be changed or not after creation.\n",
        "1.Mutable Data Types These Data Types can be modified after thier creation, meaning thier values can be changed without changing their memory address. Examples are list, dict, set for example, let's take a list: my_list = [1,2,3] my_list.append(4) here, we can modify the list by adding the element , but the memory address will remain the same.\n",
        "2.Immutable Data Types (Immutability only restricts modifications) These Data Types can't be modified once created, meaning we can't change the elements and any changes will lead to create a new object in memory. Examples are: Tuple, int , float , frozenset , string\n",
        "for example: my_tuple = (1,2,3) print(id(my_tuple)) #Memory Address before any operations or modification\n",
        "\n",
        "my_tuple += (4,5) print(id(my_tuple)) #New memory address will be returned.\n",
        "\n",
        "\n",
        "## Q3.What are the main differences in Lists and Tuples in Python\n",
        "Ans.Lists and Tuples both are ordered data structure means thier elemts are always stored in order and can contain heterogeneous type of elements but the main difference is that list is a Mutable Data structure means it's elements can be modified without changing thier memory location while Tuples are Immutable data structure means any modification can cause creation of new object in memory.\n",
        "\n",
        "## Q4.How does Dictionaies stores Data\n",
        "Ans. Dictionaries in Pyhton stored data as key-value pairs using hash tables. The Keys are hashed to an index and it allows fast retrieval of values. my_dict = {'Name': \"Kalpana\", 'Course': \"Data Analytics\", 'Qualification':\"MCA\"} Now, we can easily access our data with the help of the keys Keys must be immutable like str, int, tuple so that it's value will not change and retrieval becomes more easy.\n",
        "\n",
        "## Q5.Why use a set instead of a list in Python?\n",
        "Ans. Sets and list are the very useful data structures provided by Python. Set is a collection of unique, unordered elements, it do not allow duplicates, whereas lists do, Sets Automatically removes Duplicates, it enables faster lookup , checking if an item exists in a set is much faster than in a list. we should prefer to use set is No duplicate values are allowed , fast lookup is needed and there is no\n",
        "\n",
        "## Q6.What is a string in Python, and how it is different from a list?\n",
        "Ans. A string is a sequence of characters enclosed in either single quotes , double quotes or triple quotes. It is immutable means once created, it can't be changed. Example of string: s=\"Hello, World\" String is different from list as it is immutable but a list is a collection of elemnts(numbers, strings, etc) and is mutable. String only stores characters, while list can store any data type.\n",
        "\n",
        "## Q7.How do tuple ensure data integrity in Python?\n",
        "Ans.A tuple in Python is an immutable sequence data type, meaning once created, it can't be modified(no adding, no deleting, no changing elements). This feature of immutability ensures data integrity by preventing unintended changes. Tuples are immutable and hence is also safe for hashing , they can be used as keys in dictionaries. It ensures read-only access to critical data stored like Aadhar card number, pan card number, API responses.\n",
        "\n",
        "## Q8.what is hash table, and how it relate to dictionaries in python?\n",
        "Ans.Hash Table is a data structure that stores key-value pairs using a has function and Dictionaries in Python is a built-in implementation of a has table that allow for fast lookups,insertions , and deletions. It is implemented using a hash table behind the scenes.When a key is added to a dictionary, Python calculates its hash value using hash() function and this hash value determines the index where the key-value pair is stored in memory. Instead of searching through all elements(like in list), Python directly finds the key's location using its hash. for example: my_dict = {\"Name\": \"Kalpana\", \"Age\": 24, \"Course\": \"Data-Science\"} print(my_dict[\"age\"])\n",
        "\n",
        "## Q9.Can list contains different data types ?\n",
        "Yes, In python, a list can contain elements of different data types like integers, strings, boolean, lists, tuples, dictionaries in a single list. my_list = [10, 10.1, True, [1,2,3], (4,5), {\"Name\": \"Kalpana\"}] List is a mutable data structure , means it's values can be changed after creation.\n",
        "\n",
        "## Q10.Explain why strings are immutable in Python?\n",
        "Ans.String in Python is immutable, meaning we can't change or perform any modification in their contents after they are created. Any modification leads to creation of new string instead of modifying the original one. SInce, strings are stored in memory only once and then reused, Immutability helps save space and also prevents accidental or unintended changes. for example: s =\"Kalpana\" s[0]='s' # error , string object does not support item assignment. So, String can't be modified directly in Python and this feature helps in memory efficiency, security and fast lookups if used as a key in dictionaries/sets.\n",
        "\n",
        "## Q11.What advantages do dictionaries offer over lists for certain tasks?\n",
        "Ans.Lists are the data structure that can store data of different data types like string, tuple, list, int, float whereas Dictionary is a data structure that stores value in a key-value pair. Dictionaries are better than list for certain tasks because they provide faster lookup with the help of meaningful key-value mapping and also efficient data storage. It become easy to access values by keys due to hashing. It avoids duplicates and ensures unique keys. Dictionaries are better for large datasets as it provides easy lookups.\n",
        "\n",
        "## Q12.Describe a scenerio where using a tuple would be preferable over a list.\n",
        "Ans.There're some scenerioes where tuples would be preferable over a list as mentioned below: print(student_scores[(\"Divya\", \"Science\")]\n",
        "\n",
        "Immutable data (values can't be changed)\n",
        "Hashable Keys (Tuples can be used as dictionary keys, but list can't as it is mutable)\n",
        "Faster Performance(Tuples are slightly faster than lists) for example: 1.Storing fixed and crucial data such as Aadhar card number, pan card number , API calls. 2.When we need unique and immutable keys in dictionary. ex: student_scores = {(\"Kalpana\", \"Math\"): 90, (\"Divya\", \"Science\"): 80}\n",
        "\n",
        "## Q13.How does sets handle duplicate values in Python?\n",
        "Ans. Sets in Python automatically remove dupliacte values because they store only unique elements. for example: numbers = {1,2,2,4,4,6,7,9,9,9,9} print(numbers) It will repeat {1,2,4,6,7,9} Python automatically removes the extra 2, 4 and 9 because sets only store unique values.\n",
        "\n",
        "Sets uses Hashing, each element in a set is stored using a unique hash value. *Insertion Check: Before adding an element, Python checks if it already exists in the set, If it does, it skips adding it again. If you'll try to add duplicate manually, then it will show any error but will ignore that value.\n",
        "\n",
        "## Q14.How does the \"in\" keyword work differently for lists and dictionaries?\n",
        "Ans. The \"in\" keyword is used to check membership in Python, but it works differently for lists and dictionaries due to their underlying data structure. *When we use \"in\" with a list, Python searches through each element one by one. This makes it slow for large lists. for example: numbers = [10,20,30,40,50,60] print(30 in numbers) #True print(70 in numbers) #False\n",
        "\n",
        "*In a dictionary, \"in\" only checks for keys, not vallues. It is much faster because dictionaries use hash tables for lookups. Marks= {\"A\": 80, \"B\": 70, \"C\": 60} print(\"A\" in Marks) print(\"80\" in Marks) #False(Values not checked)\n",
        "\n",
        "## Q15.Can you modify the elements of a tuple? Explain why or why not?\n",
        "Ans. No, we can't modify the elements of a tuple in Python because tuples are immutable.Once a tuple is created, its elements can't be changed, added, or removed.This is because tuples are stored in memory in a way that prevents modification, ensuring data integrity and safety. Although tuples are immutable but if a tuple contains a mutable element(like a list), that list can be modified. foe ex: t = (1,2[3,4]) t[2].append(5) print(t) (1,2[3,4,5])\n",
        "\n",
        "## Q16.What is nested dictionary, and give an example of its use case.\n",
        "Ans.A nested dictionary is a dictionary that contains another dictionary as a value.It allows us to store structured data in a hierarchical mannner. for ex: Student Records students = { \"ID1\" :{\"Name\": \"Kalpana\", \"Course\": \"MCA\", \"Grade\": \"A\"} } Here, Student ID is the key and it's values are stored inside nested dictionary. Used for storing structured data like student records, employee details, and configurations.\n",
        "\n",
        "## Q17.Describe the Time Complexity of accessing elements in a dictioanry.\n",
        "In Python, dictionaries are implemented using hash tables, which provide fast lookups. The Time complexity of accessing an element in a dictionary depends on whether the key is there is dictionary or not. When Key is present , Python computes the hash value of the key and finds the value directly in the hash table. This happens in O(1) time on average.(COnstant Time) If we try to access a key that does not exist, Python raises a KeyError. If hash collisions occur (multiple keys having the same hash), Python uses linked lists to store values at the same location. In this case , a lookup can take O(n) time(Linear Time, looping through a list).\n",
        "\n",
        "## Q18.In what situations are lists preferred over dictionaries?\n",
        "Ans. Lists and dictionaries are both important data structures in Python, but lists are preferred over dictionaries in the following situations:\n",
        "\n",
        "When Order Matters Lists maintain the order of elements, whereas dictionaries did not. If we need ordered elements, lists are the better choice than dictionaries. for ex: students = [101, 102, 103, 104] # Preserves order\n",
        "When You Only Need a Collection of Values If ywe just need to store and access values (without keys), a list is simpler.\n",
        "List Consumes less memory compared to dictionaries. 4.When we need faster looping, as it is faster in lists than through dictionaries.Since dictionaries have key-value lookups, iteration takes more time.\n",
        "\n",
        "## Q19.Why are dictionaries considered unordered, and how does that affect data retrieval?\n",
        "Ans. In Python versions (before newer 3.7), dictionaries were unordered because they store key-value pairs using hash tables. The order of elements depended on the hash function, not on the insertion sequence. before Python3.7, The order of items in a dictionary was unpredictable but in newer version, dictionaries maintain insertion order and Retrieval follows the order keys were inserted.: In modern Python (3.7+), dictionaries preserve order, so retrieval is predictable. However, they are still best for fast lookups (O(1)) using hash tables.\n",
        "\n",
        "## Q20.Explain the difference between a list and a dictionary in terms of data retrieval\n",
        "Ans.\n",
        "Lists stores elements in sequential order (index-based) whereas Dictionary stores key-value pairs (hash-based).\n",
        "in List, we can access elements using an index (list[2]), whereas in dictionary,access values using a key (dict[\"name\"]) 3.Data Retrieval is slower in case of lists as it must search the entire list, but dictionary stored data in the form of key-value pair and uses hashing, find a value using a key. we should use list when we need to store ordered data(like any seqyuence) and retrieval is based on index. and use dictionary when we need fast lookups using keys.\n",
        "\n"
      ],
      "metadata": {
        "id": "KDOLCBZOOgsD"
      }
    },
    {
      "cell_type": "markdown",
      "source": [
        "# Practical Questions"
      ],
      "metadata": {
        "id": "S4AnYwPqbDnb"
      }
    },
    {
      "cell_type": "markdown",
      "source": [
        "Q1.Write a code to create a string with your name and print it."
      ],
      "metadata": {
        "id": "Fjqh9AAmOwmX"
      }
    },
    {
      "cell_type": "code",
      "source": [
        "my_name = \"Kalpana\"\n",
        "print(my_name)"
      ],
      "metadata": {
        "colab": {
          "base_uri": "https://localhost:8080/"
        },
        "id": "RFPEEbgPbo7M",
        "outputId": "65ef8487-a078-451e-b338-792a74d26f2d"
      },
      "execution_count": 1,
      "outputs": [
        {
          "output_type": "stream",
          "name": "stdout",
          "text": [
            "Kalpana\n"
          ]
        }
      ]
    },
    {
      "cell_type": "markdown",
      "source": [
        "Q2.Write a code to find the length of the string \"Hello World\"."
      ],
      "metadata": {
        "id": "uYT8S-J1byvO"
      }
    },
    {
      "cell_type": "code",
      "source": [
        "s =\"Hello World\"\n",
        "length_of_string = len(s)\n",
        "print(length_of_string)"
      ],
      "metadata": {
        "colab": {
          "base_uri": "https://localhost:8080/"
        },
        "id": "ig7Dtl4vb2yD",
        "outputId": "96615d50-bf34-427d-8741-c37bfacd84df"
      },
      "execution_count": 2,
      "outputs": [
        {
          "output_type": "stream",
          "name": "stdout",
          "text": [
            "11\n"
          ]
        }
      ]
    },
    {
      "cell_type": "markdown",
      "source": [
        "Q3.Write a code to slice the first 3 characters from the string \"Python Programming\"."
      ],
      "metadata": {
        "id": "VcvDt4_Rb6zm"
      }
    },
    {
      "cell_type": "code",
      "source": [
        "s = \"Python Programming\"\n",
        "s[0:3]"
      ],
      "metadata": {
        "colab": {
          "base_uri": "https://localhost:8080/",
          "height": 36
        },
        "id": "riOJpzmFb-tz",
        "outputId": "df040131-4d9d-46c6-bc1a-a28525ecb471"
      },
      "execution_count": 3,
      "outputs": [
        {
          "output_type": "execute_result",
          "data": {
            "text/plain": [
              "'Pyt'"
            ],
            "application/vnd.google.colaboratory.intrinsic+json": {
              "type": "string"
            }
          },
          "metadata": {},
          "execution_count": 3
        }
      ]
    },
    {
      "cell_type": "markdown",
      "source": [
        "Q4.Write a code to convert the string \"hello\" to uppercase."
      ],
      "metadata": {
        "id": "SPvUaDZPcCH8"
      }
    },
    {
      "cell_type": "code",
      "source": [
        "s = \"hello\"\n",
        "print(s.upper())"
      ],
      "metadata": {
        "colab": {
          "base_uri": "https://localhost:8080/"
        },
        "id": "xxPtwCf3cEYb",
        "outputId": "332d399f-6d0e-4e09-9106-6926624eb062"
      },
      "execution_count": 4,
      "outputs": [
        {
          "output_type": "stream",
          "name": "stdout",
          "text": [
            "HELLO\n"
          ]
        }
      ]
    },
    {
      "cell_type": "markdown",
      "source": [
        "Q5.Write a code to replace the word \"apple\" with \"orange\" in the string \"I like apple\"."
      ],
      "metadata": {
        "id": "hRE1kmegcHAd"
      }
    },
    {
      "cell_type": "code",
      "source": [
        "s = \"I like apple\"\n",
        "new_text = s.replace(\"apple\", \"orange\")\n",
        "print(new_text)"
      ],
      "metadata": {
        "colab": {
          "base_uri": "https://localhost:8080/"
        },
        "id": "BimB3F9hcKig",
        "outputId": "7677efc1-4072-47f5-f451-fa2a589f4a7c"
      },
      "execution_count": 5,
      "outputs": [
        {
          "output_type": "stream",
          "name": "stdout",
          "text": [
            "I like orange\n"
          ]
        }
      ]
    },
    {
      "cell_type": "markdown",
      "source": [
        "Q6.Write a code to create a list with numbers 1 to 5 and print it."
      ],
      "metadata": {
        "id": "Q0q3ME3zcM89"
      }
    },
    {
      "cell_type": "code",
      "source": [
        "numbers = [1,2,3,4,5]\n",
        "print(numbers)"
      ],
      "metadata": {
        "colab": {
          "base_uri": "https://localhost:8080/"
        },
        "id": "HMlHrtXccS55",
        "outputId": "b3f7a614-3f81-41ba-85fe-4472ff2c9c8a"
      },
      "execution_count": 6,
      "outputs": [
        {
          "output_type": "stream",
          "name": "stdout",
          "text": [
            "[1, 2, 3, 4, 5]\n"
          ]
        }
      ]
    },
    {
      "cell_type": "markdown",
      "source": [
        "Q7.Write a code to append the number 10 to the list [1, 2, 3, 4]."
      ],
      "metadata": {
        "id": "FvVfYgrpcVkK"
      }
    },
    {
      "cell_type": "code",
      "source": [
        "numbers = [1,2,3,4]\n",
        "numbers.append(10)\n",
        "print(numbers)"
      ],
      "metadata": {
        "colab": {
          "base_uri": "https://localhost:8080/"
        },
        "id": "0Y7Jnh1-cYZz",
        "outputId": "7cfe387b-fda0-4328-f758-f5af7a533ed3"
      },
      "execution_count": 7,
      "outputs": [
        {
          "output_type": "stream",
          "name": "stdout",
          "text": [
            "[1, 2, 3, 4, 10]\n"
          ]
        }
      ]
    },
    {
      "cell_type": "markdown",
      "source": [
        "Q8.Write a code to remove the number 3 from the list [1, 2, 3, 4, 5]."
      ],
      "metadata": {
        "id": "VsnqdGgMcafL"
      }
    },
    {
      "cell_type": "code",
      "source": [
        "numbers = [1,2,3,4,5]\n",
        "numbers.pop(2) # index wise\n",
        "print(numbers)"
      ],
      "metadata": {
        "colab": {
          "base_uri": "https://localhost:8080/"
        },
        "id": "0LeeijXlccsK",
        "outputId": "989b202b-92ce-4a2c-8740-afc9686f3e86"
      },
      "execution_count": 8,
      "outputs": [
        {
          "output_type": "stream",
          "name": "stdout",
          "text": [
            "[1, 2, 4, 5]\n"
          ]
        }
      ]
    },
    {
      "cell_type": "code",
      "source": [
        "numbers = [1,2,3,4,5]\n",
        "numbers.remove(3) #based on value\n",
        "print(numbers)"
      ],
      "metadata": {
        "colab": {
          "base_uri": "https://localhost:8080/"
        },
        "id": "0E2CPO7UclwR",
        "outputId": "20cdf832-c017-44dc-c847-17f69b32a0f4"
      },
      "execution_count": 9,
      "outputs": [
        {
          "output_type": "stream",
          "name": "stdout",
          "text": [
            "[1, 2, 4, 5]\n"
          ]
        }
      ]
    },
    {
      "cell_type": "markdown",
      "source": [
        "Q9.Write a code to access the second element in the list ['a', 'b', 'c', 'd']."
      ],
      "metadata": {
        "id": "dFlE0_ZGcixj"
      }
    },
    {
      "cell_type": "code",
      "source": [
        "s = ['a', 'b', 'c', 'd']\n",
        "s[1]"
      ],
      "metadata": {
        "colab": {
          "base_uri": "https://localhost:8080/",
          "height": 36
        },
        "id": "KkcHZR6acpoq",
        "outputId": "2c3274a7-ae3d-4014-ae24-32b565c1ac88"
      },
      "execution_count": 10,
      "outputs": [
        {
          "output_type": "execute_result",
          "data": {
            "text/plain": [
              "'b'"
            ],
            "application/vnd.google.colaboratory.intrinsic+json": {
              "type": "string"
            }
          },
          "metadata": {},
          "execution_count": 10
        }
      ]
    },
    {
      "cell_type": "markdown",
      "source": [
        "Q10.Write a code to reverse the list [10, 20, 30, 40, 50]."
      ],
      "metadata": {
        "id": "i2f6Xyvicrxh"
      }
    },
    {
      "cell_type": "code",
      "source": [
        "s = [10,20,30,40,50]\n",
        "s.reverse()\n",
        "print(s)"
      ],
      "metadata": {
        "colab": {
          "base_uri": "https://localhost:8080/"
        },
        "id": "Q-9hfePGct63",
        "outputId": "757c75f1-f2e8-482a-9eba-6c53fc6a7edf"
      },
      "execution_count": 11,
      "outputs": [
        {
          "output_type": "stream",
          "name": "stdout",
          "text": [
            "[50, 40, 30, 20, 10]\n"
          ]
        }
      ]
    },
    {
      "cell_type": "markdown",
      "source": [
        "Q11.Write a code to create a tuple with the elements 100, 200, 300 and print it."
      ],
      "metadata": {
        "id": "ogkwsrt-cwC4"
      }
    },
    {
      "cell_type": "code",
      "source": [
        "s = (100,200,300)\n",
        "print(s)"
      ],
      "metadata": {
        "colab": {
          "base_uri": "https://localhost:8080/"
        },
        "id": "XhfMtkQIcylY",
        "outputId": "976067e4-cb04-44a3-ffff-9ad30c71b9da"
      },
      "execution_count": 12,
      "outputs": [
        {
          "output_type": "stream",
          "name": "stdout",
          "text": [
            "(100, 200, 300)\n"
          ]
        }
      ]
    },
    {
      "cell_type": "markdown",
      "source": [
        "Q12.Write a code to access the second-to-last element of the tuple ('red', 'green', 'blue', 'yellow')."
      ],
      "metadata": {
        "id": "EUvG2nJic0T-"
      }
    },
    {
      "cell_type": "code",
      "source": [
        "s = ('red', 'green', 'blue', 'yellow')\n",
        "s[-2]"
      ],
      "metadata": {
        "colab": {
          "base_uri": "https://localhost:8080/",
          "height": 36
        },
        "id": "i1S-hJxsc3Ez",
        "outputId": "8898b996-b76c-4ecd-e996-cb162157fbd4"
      },
      "execution_count": 13,
      "outputs": [
        {
          "output_type": "execute_result",
          "data": {
            "text/plain": [
              "'blue'"
            ],
            "application/vnd.google.colaboratory.intrinsic+json": {
              "type": "string"
            }
          },
          "metadata": {},
          "execution_count": 13
        }
      ]
    },
    {
      "cell_type": "markdown",
      "source": [
        "Q13.Write a code to find the minimum number in the tuple (10, 20, 5, 15)."
      ],
      "metadata": {
        "id": "r-0Y9v9lc5OE"
      }
    },
    {
      "cell_type": "code",
      "source": [
        "s = (10,20,5,15)\n",
        "min_num = min(s)\n",
        "print(min_num)"
      ],
      "metadata": {
        "colab": {
          "base_uri": "https://localhost:8080/"
        },
        "id": "6saIbVNCc_c2",
        "outputId": "b58a3dde-2e96-47c8-f139-42b84051337e"
      },
      "execution_count": 14,
      "outputs": [
        {
          "output_type": "stream",
          "name": "stdout",
          "text": [
            "5\n"
          ]
        }
      ]
    },
    {
      "cell_type": "markdown",
      "source": [
        "Q14.Write a code to find the index of the element \"cat\" in the tuple ('dog', 'cat', 'rabbit')."
      ],
      "metadata": {
        "id": "XMSklwRXdChd"
      }
    },
    {
      "cell_type": "code",
      "source": [
        "s = ('dog', 'cat', 'rabbit')\n",
        "index_of_cat = s.index('cat')\n",
        "print(index_of_cat)"
      ],
      "metadata": {
        "colab": {
          "base_uri": "https://localhost:8080/"
        },
        "id": "VrnraoqndFyB",
        "outputId": "c1a23462-9fab-4cab-ea5e-055db8f4172d"
      },
      "execution_count": 15,
      "outputs": [
        {
          "output_type": "stream",
          "name": "stdout",
          "text": [
            "1\n"
          ]
        }
      ]
    },
    {
      "cell_type": "markdown",
      "source": [
        "Q15.Write a code to create a tuple containing three different fruits and check if \"kiwi\" is in it."
      ],
      "metadata": {
        "id": "PXAFYFYKdH7r"
      }
    },
    {
      "cell_type": "code",
      "source": [
        "fruits = ('Banana', 'Apple', 'Mango', 'Grapes', 'Kiwi')\n",
        "print('Kiwi' in fruits)"
      ],
      "metadata": {
        "colab": {
          "base_uri": "https://localhost:8080/"
        },
        "id": "9ITaoE_FdMb7",
        "outputId": "7b065538-4a93-4aab-e1ac-c6720418b684"
      },
      "execution_count": 16,
      "outputs": [
        {
          "output_type": "stream",
          "name": "stdout",
          "text": [
            "True\n"
          ]
        }
      ]
    },
    {
      "cell_type": "markdown",
      "source": [
        "Q16.Write a code to create a set with the elements 'a', 'b', 'c' and print it"
      ],
      "metadata": {
        "id": "EjcPqJxOdOZ-"
      }
    },
    {
      "cell_type": "code",
      "source": [
        "s = {'a', 'b', 'c'}\n",
        "print(s)"
      ],
      "metadata": {
        "colab": {
          "base_uri": "https://localhost:8080/"
        },
        "id": "2usxw8qidRe4",
        "outputId": "cae5d240-86af-4265-85d1-6c1c9ed40aa6"
      },
      "execution_count": 17,
      "outputs": [
        {
          "output_type": "stream",
          "name": "stdout",
          "text": [
            "{'b', 'c', 'a'}\n"
          ]
        }
      ]
    },
    {
      "cell_type": "markdown",
      "source": [
        "Q17. Write a code to clear all elements from the set {1, 2, 3, 4, 5}."
      ],
      "metadata": {
        "id": "408M0V3adU9f"
      }
    },
    {
      "cell_type": "code",
      "source": [
        "s ={1,2,3,4,5}\n",
        "s.clear()\n",
        "print(s)"
      ],
      "metadata": {
        "colab": {
          "base_uri": "https://localhost:8080/"
        },
        "id": "fkkbOg2mdYZU",
        "outputId": "54df3b33-b6c4-464d-f10c-b3645d0011ca"
      },
      "execution_count": 18,
      "outputs": [
        {
          "output_type": "stream",
          "name": "stdout",
          "text": [
            "set()\n"
          ]
        }
      ]
    },
    {
      "cell_type": "markdown",
      "source": [
        "Q18.Write a code to remove the element 4 from the set {1, 2, 3, 4}."
      ],
      "metadata": {
        "id": "XXJXskzwdaaw"
      }
    },
    {
      "cell_type": "code",
      "source": [
        "s = {1,2,3,4}\n",
        "s.remove(4)\n",
        "print(s)"
      ],
      "metadata": {
        "colab": {
          "base_uri": "https://localhost:8080/"
        },
        "id": "EqGODjS-dcTy",
        "outputId": "9d28efd0-df73-40f5-f52a-83020af7182b"
      },
      "execution_count": 19,
      "outputs": [
        {
          "output_type": "stream",
          "name": "stdout",
          "text": [
            "{1, 2, 3}\n"
          ]
        }
      ]
    },
    {
      "cell_type": "markdown",
      "source": [
        "Q19.Write a code to find the union of two sets {1, 2, 3} and {3, 4, 5}."
      ],
      "metadata": {
        "id": "EcxweIGbdd7S"
      }
    },
    {
      "cell_type": "code",
      "source": [
        "s = {1,2,3}\n",
        "s1 = {3,4,5}\n",
        "union_set = s.union(s1)\n",
        "print(union_set)"
      ],
      "metadata": {
        "colab": {
          "base_uri": "https://localhost:8080/"
        },
        "id": "Sgl0kAfRdf77",
        "outputId": "f87e3f6d-a4f4-4ce7-c5f7-f49d4f7c03a9"
      },
      "execution_count": 20,
      "outputs": [
        {
          "output_type": "stream",
          "name": "stdout",
          "text": [
            "{1, 2, 3, 4, 5}\n"
          ]
        }
      ]
    },
    {
      "cell_type": "markdown",
      "source": [
        "Q20. Write a code to find the intersection of two sets {1, 2, 3} and {2, 3, 4}."
      ],
      "metadata": {
        "id": "1Z7c-GHYdhoD"
      }
    },
    {
      "cell_type": "code",
      "source": [
        "s = {1,2,3}\n",
        "s1 = {2,3,4}\n",
        "intersection_set = s.intersection(s1)\n",
        "print(intersection_set)"
      ],
      "metadata": {
        "colab": {
          "base_uri": "https://localhost:8080/"
        },
        "id": "9a_17JfEdkNJ",
        "outputId": "5ba9fadf-e7b5-4b31-81b7-56bb1149b936"
      },
      "execution_count": 21,
      "outputs": [
        {
          "output_type": "stream",
          "name": "stdout",
          "text": [
            "{2, 3}\n"
          ]
        }
      ]
    },
    {
      "cell_type": "markdown",
      "source": [
        "Q21. Write a code to create a dictionary with the keys \"name\", \"age\", and \"city\", and print it."
      ],
      "metadata": {
        "id": "nN5cnN53dmMB"
      }
    },
    {
      "cell_type": "code",
      "source": [
        "dictionary = {\"name\":\"A\", \"age\": 23, \"city\": \"Rewari\"}\n",
        "print(dictionary)"
      ],
      "metadata": {
        "colab": {
          "base_uri": "https://localhost:8080/"
        },
        "id": "fBTlF10kdpM9",
        "outputId": "db782fbe-9db9-46db-e66e-f8cea96f7256"
      },
      "execution_count": 22,
      "outputs": [
        {
          "output_type": "stream",
          "name": "stdout",
          "text": [
            "{'name': 'A', 'age': 23, 'city': 'Rewari'}\n"
          ]
        }
      ]
    },
    {
      "cell_type": "markdown",
      "source": [
        "Q22. Write a code to add a new key-value pair \"country\": \"USA\" to the dictionary {'name': 'John', 'age': 25}."
      ],
      "metadata": {
        "id": "lUG2dDR3drbT"
      }
    },
    {
      "cell_type": "code",
      "source": [
        "s = {'name': 'John', 'age': 25}\n",
        "s[\"country\"] = \"USA\"\n",
        "print(s)"
      ],
      "metadata": {
        "colab": {
          "base_uri": "https://localhost:8080/"
        },
        "id": "T7Zg26bGduvR",
        "outputId": "27ff637f-4af0-42cf-9715-807bd6cfaf41"
      },
      "execution_count": 23,
      "outputs": [
        {
          "output_type": "stream",
          "name": "stdout",
          "text": [
            "{'name': 'John', 'age': 25, 'country': 'USA'}\n"
          ]
        }
      ]
    },
    {
      "cell_type": "markdown",
      "source": [
        "Q23. Write a code to access the value associated with the key \"name\" in the dictionary {'name': 'Alice', 'age': 30}."
      ],
      "metadata": {
        "id": "sfsyp9SEdz4o"
      }
    },
    {
      "cell_type": "code",
      "source": [
        "s = {'name': 'Alice', 'age': 30}\n",
        "s['name']"
      ],
      "metadata": {
        "colab": {
          "base_uri": "https://localhost:8080/",
          "height": 36
        },
        "id": "8OR1jibOd32g",
        "outputId": "a4f303e0-6b7c-4978-8bfd-6697773c79de"
      },
      "execution_count": 24,
      "outputs": [
        {
          "output_type": "execute_result",
          "data": {
            "text/plain": [
              "'Alice'"
            ],
            "application/vnd.google.colaboratory.intrinsic+json": {
              "type": "string"
            }
          },
          "metadata": {},
          "execution_count": 24
        }
      ]
    },
    {
      "cell_type": "markdown",
      "source": [
        "Q24. Write a code to remove the key \"age\" from the dictionary {'name': 'Bob', 'age': 22, 'city': 'New York'}."
      ],
      "metadata": {
        "id": "YWRx1XXGd6Pf"
      }
    },
    {
      "cell_type": "code",
      "source": [
        "s = {'name': 'Bob', 'age': 22 , 'city': 'New York'}\n",
        "s.pop('age')\n",
        "print(s)"
      ],
      "metadata": {
        "colab": {
          "base_uri": "https://localhost:8080/"
        },
        "id": "oLqQbryfd9Jb",
        "outputId": "0e749fd8-ac7c-4816-a5cc-ea24e9bff855"
      },
      "execution_count": 25,
      "outputs": [
        {
          "output_type": "stream",
          "name": "stdout",
          "text": [
            "{'name': 'Bob', 'city': 'New York'}\n"
          ]
        }
      ]
    },
    {
      "cell_type": "markdown",
      "source": [
        "25. Write a code to check if the key \"city\" exists in the dictionary {'name': 'Alice', 'city': 'Paris'}."
      ],
      "metadata": {
        "id": "ZFDRwhO7eBoY"
      }
    },
    {
      "cell_type": "code",
      "source": [
        "s ={'name':'Alice', 'city': 'Paris'}\n",
        "print('city' in s)"
      ],
      "metadata": {
        "colab": {
          "base_uri": "https://localhost:8080/"
        },
        "id": "kUSj3YCPeE05",
        "outputId": "577e2b90-94aa-4abc-8656-c6ed0136f01c"
      },
      "execution_count": 26,
      "outputs": [
        {
          "output_type": "stream",
          "name": "stdout",
          "text": [
            "True\n"
          ]
        }
      ]
    },
    {
      "cell_type": "markdown",
      "source": [
        "Q26. Write a code to create a list, a tuple, and a dictionary, and print them all."
      ],
      "metadata": {
        "id": "8t2PwhuMeHci"
      }
    },
    {
      "cell_type": "code",
      "source": [
        "my_list = [1,2,3,True,\"Kalpana\"]\n",
        "my_tuple = (1,2,False, \"Riya\",)\n",
        "my_dictionary = {'name': 'Kalpana', 'age': 23, 'Course': 'MCA'}\n",
        "\n",
        "print(\"Lists:\", my_list)\n",
        "print(\"Tuple:\", my_tuple)\n",
        "print(\"Dictionary:\", my_dictionary)"
      ],
      "metadata": {
        "colab": {
          "base_uri": "https://localhost:8080/"
        },
        "id": "-ECDHbjeeK2F",
        "outputId": "d9680795-47b4-4620-ee1e-a8639eb14ac2"
      },
      "execution_count": 27,
      "outputs": [
        {
          "output_type": "stream",
          "name": "stdout",
          "text": [
            "Lists: [1, 2, 3, True, 'Kalpana']\n",
            "Tuple: (1, 2, False, 'Riya')\n",
            "Dictionary: {'name': 'Kalpana', 'age': 23, 'Course': 'MCA'}\n"
          ]
        }
      ]
    },
    {
      "cell_type": "markdown",
      "source": [
        "Q27. Write a code to create a list of 5 random numbers between 1 and 100, sort it in ascending order, and print the result.(replaced)"
      ],
      "metadata": {
        "id": "WMmXgvO8eNqu"
      }
    },
    {
      "cell_type": "code",
      "source": [
        "s = [100, 80, 79, 65, 55]\n",
        "s.sort()\n",
        "print(s)"
      ],
      "metadata": {
        "colab": {
          "base_uri": "https://localhost:8080/"
        },
        "id": "USOMc_8EeRQY",
        "outputId": "6925500e-db02-46b9-92cf-eabd037dd031"
      },
      "execution_count": 28,
      "outputs": [
        {
          "output_type": "stream",
          "name": "stdout",
          "text": [
            "[55, 65, 79, 80, 100]\n"
          ]
        }
      ]
    },
    {
      "cell_type": "markdown",
      "source": [
        "28.Write a code to create a list with strings and print the element at the third index."
      ],
      "metadata": {
        "id": "K_aSzSmdeTe7"
      }
    },
    {
      "cell_type": "code",
      "source": [
        "s = ['Kalpana', 'Riya', 'Sonam', 'Aysha']\n",
        "print(\"Elements at the third index is :\", s[2] )"
      ],
      "metadata": {
        "colab": {
          "base_uri": "https://localhost:8080/"
        },
        "id": "3emPYrp5eVhL",
        "outputId": "89a0d2d1-1b26-48d6-f1bf-b2565725ff68"
      },
      "execution_count": 29,
      "outputs": [
        {
          "output_type": "stream",
          "name": "stdout",
          "text": [
            "Elements at the third index is : Sonam\n"
          ]
        }
      ]
    },
    {
      "cell_type": "code",
      "source": [],
      "metadata": {
        "id": "ofOl5s8Sb6cP"
      },
      "execution_count": null,
      "outputs": []
    },
    {
      "cell_type": "markdown",
      "source": [
        "Q29. Write a code to combine two dictionaries into one and print the result."
      ],
      "metadata": {
        "id": "QyM3ANAxeX-S"
      }
    },
    {
      "cell_type": "code",
      "source": [
        "dict_1 = {'Name': \"Kalpana\", 'Age': 24}\n",
        "dict_2 = {'City': \"Chandigarh\", 'State': \"Haryana\"}\n",
        "dict_1.update(dict_2)\n",
        "print(dict_1)"
      ],
      "metadata": {
        "colab": {
          "base_uri": "https://localhost:8080/"
        },
        "id": "K69c8qgLea7H",
        "outputId": "99eed6d2-3e2d-40d0-84ab-57055625974d"
      },
      "execution_count": 30,
      "outputs": [
        {
          "output_type": "stream",
          "name": "stdout",
          "text": [
            "{'Name': 'Kalpana', 'Age': 24, 'City': 'Chandigarh', 'State': 'Haryana'}\n"
          ]
        }
      ]
    },
    {
      "cell_type": "markdown",
      "source": [
        "Q30. Write a code to convert a list of strings into a set."
      ],
      "metadata": {
        "id": "RF52K8V2edd0"
      }
    },
    {
      "cell_type": "code",
      "source": [
        "s = ['Kalpana', 'Riya', 'Aysha', 'Sonam', 'Aditi']\n",
        "string_set = set(s)\n",
        "print(\"Set of Strings:\", string_set)"
      ],
      "metadata": {
        "colab": {
          "base_uri": "https://localhost:8080/"
        },
        "id": "Dtrbcl6nefqS",
        "outputId": "778b162d-1a70-4804-b4f6-c39e21c01d10"
      },
      "execution_count": 31,
      "outputs": [
        {
          "output_type": "stream",
          "name": "stdout",
          "text": [
            "Set of Strings: {'Kalpana', 'Riya', 'Aditi', 'Aysha', 'Sonam'}\n"
          ]
        }
      ]
    },
    {
      "cell_type": "markdown",
      "source": [],
      "metadata": {
        "id": "4GAH38U7bWpP"
      }
    }
  ]
}